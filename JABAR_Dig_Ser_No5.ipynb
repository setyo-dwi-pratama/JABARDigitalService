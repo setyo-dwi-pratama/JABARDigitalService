{
  "nbformat": 4,
  "nbformat_minor": 0,
  "metadata": {
    "colab": {
      "name": "JABAR_Dig_Ser_No5.ipynb",
      "provenance": [],
      "authorship_tag": "ABX9TyOhIjkHaemXawANPcvitba7",
      "include_colab_link": true
    },
    "kernelspec": {
      "name": "python3",
      "display_name": "Python 3"
    },
    "accelerator": "GPU"
  },
  "cells": [
    {
      "cell_type": "markdown",
      "metadata": {
        "id": "view-in-github",
        "colab_type": "text"
      },
      "source": [
        "<a href=\"https://colab.research.google.com/github/setyo-dwi-pratama/JABARDigitalService/blob/main/JABAR_Dig_Ser_No5.ipynb\" target=\"_parent\"><img src=\"https://colab.research.google.com/assets/colab-badge.svg\" alt=\"Open In Colab\"/></a>"
      ]
    },
    {
      "cell_type": "markdown",
      "metadata": {
        "id": "zv30nSkUA_i7"
      },
      "source": [
        "# **SOAL 5**\r\n",
        "Tim Data Analyst memiliki sejumlah project yang berkaitan dengan Dinas lain. Pada kasus berikut Dinas terkait meminta request adhoc yang sifatnya dibutuhkan cepat. Data Analyst diminta untuk query SQL data yang terdapat di database dengan beberapa pertanyaan sebagai berikut:\r\n",
        "\r\n",
        "\r\n",
        "1.   Lokasi manakah yang paling banyak mengalami kemacetan level 5?\r\n",
        "2.   Berapa banyak kemacetan level 5 yang terjadi di Kota Bandung dalam sebulan terakhir?\r\n",
        "3.    3 Lokasi manakah yang memiliki rata-rata kecepatan terendah dalam satu minggu terakhir pada jam 15-18?\r\n",
        "4.    Temukan anomali yang terdapat pada tabel sampel data tersebut!\r\n",
        "\r\n"
      ]
    },
    {
      "cell_type": "markdown",
      "metadata": {
        "id": "9Pdyyz-6CNVT"
      },
      "source": [
        "# **Dataset**\r\n",
        "id : id unik sample data\r\n",
        "\r\n",
        "kemendagri_kabupaten_nama : Nama Kota Kabupaten\r\n",
        "\r\n",
        "kemendagri_kabupaten_kode : Kode Kota Kabupaten\r\n",
        "\r\n",
        "date : Tanggal terjadinya kemacetan\r\n",
        "\r\n",
        "hour : Jam terjadinya kemacetan\r\n",
        "\r\n",
        "level : Level kemacetan\r\n",
        "\r\n",
        "geometry : lokasi atau titik terjadinya kemacetan\r\n",
        "\r\n",
        "avg_speed_kmh : Rata-rata kecepatan kendaraan kolometer per jam"
      ]
    },
    {
      "cell_type": "markdown",
      "metadata": {
        "id": "s4BfUCrBDQPN"
      },
      "source": [
        "# **Packages**"
      ]
    },
    {
      "cell_type": "code",
      "metadata": {
        "id": "dLfEgsKM0_0o"
      },
      "source": [
        "import pandas as pd\r\n",
        "import numpy as np\r\n",
        "import seaborn as sns\r\n",
        "import matplotlib.pyplot as plt"
      ],
      "execution_count": 1,
      "outputs": []
    },
    {
      "cell_type": "markdown",
      "metadata": {
        "id": "V39UQYRTDT-1"
      },
      "source": [
        "# **Input Data**"
      ]
    },
    {
      "cell_type": "code",
      "metadata": {
        "id": "SYXGBtvqA2i5"
      },
      "source": [
        "data = pd.read_csv('https://raw.githubusercontent.com/setyo-dwi-pratama/JABARDigitalService/main/Sample%20Data%20-%20sample_data.csv')"
      ],
      "execution_count": 2,
      "outputs": []
    },
    {
      "cell_type": "code",
      "metadata": {
        "colab": {
          "base_uri": "https://localhost:8080/",
          "height": 406
        },
        "id": "KjJUTGsaDrK3",
        "outputId": "a2c03b49-1fb3-4c0e-e212-f13aaea99d38"
      },
      "source": [
        "data"
      ],
      "execution_count": 3,
      "outputs": [
        {
          "output_type": "execute_result",
          "data": {
            "text/html": [
              "<div>\n",
              "<style scoped>\n",
              "    .dataframe tbody tr th:only-of-type {\n",
              "        vertical-align: middle;\n",
              "    }\n",
              "\n",
              "    .dataframe tbody tr th {\n",
              "        vertical-align: top;\n",
              "    }\n",
              "\n",
              "    .dataframe thead th {\n",
              "        text-align: right;\n",
              "    }\n",
              "</style>\n",
              "<table border=\"1\" class=\"dataframe\">\n",
              "  <thead>\n",
              "    <tr style=\"text-align: right;\">\n",
              "      <th></th>\n",
              "      <th>id</th>\n",
              "      <th>kemendagri_kabupaten_nama</th>\n",
              "      <th>kemendagri_kabupaten_kode</th>\n",
              "      <th>date</th>\n",
              "      <th>hour</th>\n",
              "      <th>level</th>\n",
              "      <th>geometry</th>\n",
              "      <th>avg_speed_kmh</th>\n",
              "    </tr>\n",
              "  </thead>\n",
              "  <tbody>\n",
              "    <tr>\n",
              "      <th>0</th>\n",
              "      <td>8230974</td>\n",
              "      <td>KOTA BANDUNG</td>\n",
              "      <td>32.73</td>\n",
              "      <td>2020-01-01</td>\n",
              "      <td>7</td>\n",
              "      <td>2</td>\n",
              "      <td>{'type': 'MultiLineString', 'coordinates': [[[...</td>\n",
              "      <td>14.06750</td>\n",
              "    </tr>\n",
              "    <tr>\n",
              "      <th>1</th>\n",
              "      <td>8230965</td>\n",
              "      <td>KOTA BANDUNG</td>\n",
              "      <td>32.73</td>\n",
              "      <td>2020-01-01</td>\n",
              "      <td>6</td>\n",
              "      <td>2</td>\n",
              "      <td>{'type': 'MultiLineString', 'coordinates': [[[...</td>\n",
              "      <td>8.55000</td>\n",
              "    </tr>\n",
              "    <tr>\n",
              "      <th>2</th>\n",
              "      <td>8230966</td>\n",
              "      <td>KOTA BANDUNG</td>\n",
              "      <td>32.73</td>\n",
              "      <td>2020-01-01</td>\n",
              "      <td>6</td>\n",
              "      <td>4</td>\n",
              "      <td>{'type': 'MultiLineString', 'coordinates': [[[...</td>\n",
              "      <td>3.94875</td>\n",
              "    </tr>\n",
              "    <tr>\n",
              "      <th>3</th>\n",
              "      <td>8230967</td>\n",
              "      <td>KOTA BANDUNG</td>\n",
              "      <td>32.73</td>\n",
              "      <td>2020-01-01</td>\n",
              "      <td>6</td>\n",
              "      <td>2</td>\n",
              "      <td>{'type': 'MultiLineString', 'coordinates': [[[...</td>\n",
              "      <td>20.20710</td>\n",
              "    </tr>\n",
              "    <tr>\n",
              "      <th>4</th>\n",
              "      <td>8230968</td>\n",
              "      <td>KOTA BANDUNG</td>\n",
              "      <td>32.73</td>\n",
              "      <td>2020-01-01</td>\n",
              "      <td>6</td>\n",
              "      <td>2</td>\n",
              "      <td>{'type': 'MultiLineString', 'coordinates': [[[...</td>\n",
              "      <td>40.94400</td>\n",
              "    </tr>\n",
              "    <tr>\n",
              "      <th>...</th>\n",
              "      <td>...</td>\n",
              "      <td>...</td>\n",
              "      <td>...</td>\n",
              "      <td>...</td>\n",
              "      <td>...</td>\n",
              "      <td>...</td>\n",
              "      <td>...</td>\n",
              "      <td>...</td>\n",
              "    </tr>\n",
              "    <tr>\n",
              "      <th>145</th>\n",
              "      <td>8231145</td>\n",
              "      <td>KOTA BANDUNG</td>\n",
              "      <td>32.73</td>\n",
              "      <td>2020-01-01</td>\n",
              "      <td>9</td>\n",
              "      <td>2</td>\n",
              "      <td>{'type': 'MultiLineString', 'coordinates': [[[...</td>\n",
              "      <td>17.02500</td>\n",
              "    </tr>\n",
              "    <tr>\n",
              "      <th>146</th>\n",
              "      <td>8231114</td>\n",
              "      <td>KOTA BANDUNG</td>\n",
              "      <td>32.73</td>\n",
              "      <td>2020-01-01</td>\n",
              "      <td>9</td>\n",
              "      <td>2</td>\n",
              "      <td>{'type': 'LineString', 'coordinates': [[107.61...</td>\n",
              "      <td>13.04000</td>\n",
              "    </tr>\n",
              "    <tr>\n",
              "      <th>147</th>\n",
              "      <td>8231115</td>\n",
              "      <td>KOTA BANDUNG</td>\n",
              "      <td>32.73</td>\n",
              "      <td>2020-01-01</td>\n",
              "      <td>9</td>\n",
              "      <td>2</td>\n",
              "      <td>{'type': 'MultiLineString', 'coordinates': [[[...</td>\n",
              "      <td>17.73760</td>\n",
              "    </tr>\n",
              "    <tr>\n",
              "      <th>148</th>\n",
              "      <td>8231116</td>\n",
              "      <td>KOTA BANDUNG</td>\n",
              "      <td>32.73</td>\n",
              "      <td>2020-01-01</td>\n",
              "      <td>9</td>\n",
              "      <td>3</td>\n",
              "      <td>{'type': 'MultiLineString', 'coordinates': [[[...</td>\n",
              "      <td>12.53960</td>\n",
              "    </tr>\n",
              "    <tr>\n",
              "      <th>149</th>\n",
              "      <td>8231117</td>\n",
              "      <td>KOTA BANDUNG</td>\n",
              "      <td>32.73</td>\n",
              "      <td>2020-01-01</td>\n",
              "      <td>9</td>\n",
              "      <td>4</td>\n",
              "      <td>{'type': 'MultiLineString', 'coordinates': [[[...</td>\n",
              "      <td>5.43000</td>\n",
              "    </tr>\n",
              "  </tbody>\n",
              "</table>\n",
              "<p>150 rows × 8 columns</p>\n",
              "</div>"
            ],
            "text/plain": [
              "          id  ... avg_speed_kmh\n",
              "0    8230974  ...      14.06750\n",
              "1    8230965  ...       8.55000\n",
              "2    8230966  ...       3.94875\n",
              "3    8230967  ...      20.20710\n",
              "4    8230968  ...      40.94400\n",
              "..       ...  ...           ...\n",
              "145  8231145  ...      17.02500\n",
              "146  8231114  ...      13.04000\n",
              "147  8231115  ...      17.73760\n",
              "148  8231116  ...      12.53960\n",
              "149  8231117  ...       5.43000\n",
              "\n",
              "[150 rows x 8 columns]"
            ]
          },
          "metadata": {
            "tags": []
          },
          "execution_count": 3
        }
      ]
    },
    {
      "cell_type": "code",
      "metadata": {
        "colab": {
          "base_uri": "https://localhost:8080/"
        },
        "id": "dez5UOv3Dr-7",
        "outputId": "c54cf345-6d5b-47ab-a3ad-319e097c162e"
      },
      "source": [
        "data.info()"
      ],
      "execution_count": 4,
      "outputs": [
        {
          "output_type": "stream",
          "text": [
            "<class 'pandas.core.frame.DataFrame'>\n",
            "RangeIndex: 150 entries, 0 to 149\n",
            "Data columns (total 8 columns):\n",
            " #   Column                     Non-Null Count  Dtype  \n",
            "---  ------                     --------------  -----  \n",
            " 0   id                         150 non-null    int64  \n",
            " 1   kemendagri_kabupaten_nama  150 non-null    object \n",
            " 2   kemendagri_kabupaten_kode  150 non-null    float64\n",
            " 3   date                       150 non-null    object \n",
            " 4   hour                       150 non-null    int64  \n",
            " 5   level                      150 non-null    int64  \n",
            " 6   geometry                   149 non-null    object \n",
            " 7   avg_speed_kmh              150 non-null    float64\n",
            "dtypes: float64(2), int64(3), object(3)\n",
            "memory usage: 9.5+ KB\n"
          ],
          "name": "stdout"
        }
      ]
    },
    {
      "cell_type": "code",
      "metadata": {
        "colab": {
          "base_uri": "https://localhost:8080/"
        },
        "id": "VI0ffTbmDxKa",
        "outputId": "930d6eeb-0140-45a7-eaa9-dfb53c6a72e1"
      },
      "source": [
        "data.isnull().sum()"
      ],
      "execution_count": 5,
      "outputs": [
        {
          "output_type": "execute_result",
          "data": {
            "text/plain": [
              "id                           0\n",
              "kemendagri_kabupaten_nama    0\n",
              "kemendagri_kabupaten_kode    0\n",
              "date                         0\n",
              "hour                         0\n",
              "level                        0\n",
              "geometry                     1\n",
              "avg_speed_kmh                0\n",
              "dtype: int64"
            ]
          },
          "metadata": {
            "tags": []
          },
          "execution_count": 5
        }
      ]
    },
    {
      "cell_type": "code",
      "metadata": {
        "colab": {
          "base_uri": "https://localhost:8080/"
        },
        "id": "YoLJJf9vD1aH",
        "outputId": "44970d2f-8878-46e9-a550-f2d8370421c8"
      },
      "source": [
        "data['date'] = pd.to_datetime(data['date'])\r\n",
        "data.info()"
      ],
      "execution_count": 9,
      "outputs": [
        {
          "output_type": "stream",
          "text": [
            "<class 'pandas.core.frame.DataFrame'>\n",
            "RangeIndex: 150 entries, 0 to 149\n",
            "Data columns (total 8 columns):\n",
            " #   Column                     Non-Null Count  Dtype         \n",
            "---  ------                     --------------  -----         \n",
            " 0   id                         150 non-null    int64         \n",
            " 1   kemendagri_kabupaten_nama  150 non-null    object        \n",
            " 2   kemendagri_kabupaten_kode  150 non-null    float64       \n",
            " 3   date                       150 non-null    datetime64[ns]\n",
            " 4   hour                       150 non-null    int64         \n",
            " 5   level                      150 non-null    int64         \n",
            " 6   geometry                   149 non-null    object        \n",
            " 7   avg_speed_kmh              150 non-null    float64       \n",
            "dtypes: datetime64[ns](1), float64(2), int64(3), object(2)\n",
            "memory usage: 9.5+ KB\n"
          ],
          "name": "stdout"
        }
      ]
    },
    {
      "cell_type": "code",
      "metadata": {
        "colab": {
          "base_uri": "https://localhost:8080/",
          "height": 406
        },
        "id": "CPU3p2SREk1q",
        "outputId": "5f25842b-b1e8-46da-b920-94e24c119be6"
      },
      "source": [
        "data"
      ],
      "execution_count": 10,
      "outputs": [
        {
          "output_type": "execute_result",
          "data": {
            "text/html": [
              "<div>\n",
              "<style scoped>\n",
              "    .dataframe tbody tr th:only-of-type {\n",
              "        vertical-align: middle;\n",
              "    }\n",
              "\n",
              "    .dataframe tbody tr th {\n",
              "        vertical-align: top;\n",
              "    }\n",
              "\n",
              "    .dataframe thead th {\n",
              "        text-align: right;\n",
              "    }\n",
              "</style>\n",
              "<table border=\"1\" class=\"dataframe\">\n",
              "  <thead>\n",
              "    <tr style=\"text-align: right;\">\n",
              "      <th></th>\n",
              "      <th>id</th>\n",
              "      <th>kemendagri_kabupaten_nama</th>\n",
              "      <th>kemendagri_kabupaten_kode</th>\n",
              "      <th>date</th>\n",
              "      <th>hour</th>\n",
              "      <th>level</th>\n",
              "      <th>geometry</th>\n",
              "      <th>avg_speed_kmh</th>\n",
              "    </tr>\n",
              "  </thead>\n",
              "  <tbody>\n",
              "    <tr>\n",
              "      <th>0</th>\n",
              "      <td>8230974</td>\n",
              "      <td>KOTA BANDUNG</td>\n",
              "      <td>32.73</td>\n",
              "      <td>2020-01-01</td>\n",
              "      <td>7</td>\n",
              "      <td>2</td>\n",
              "      <td>{'type': 'MultiLineString', 'coordinates': [[[...</td>\n",
              "      <td>14.06750</td>\n",
              "    </tr>\n",
              "    <tr>\n",
              "      <th>1</th>\n",
              "      <td>8230965</td>\n",
              "      <td>KOTA BANDUNG</td>\n",
              "      <td>32.73</td>\n",
              "      <td>2020-01-01</td>\n",
              "      <td>6</td>\n",
              "      <td>2</td>\n",
              "      <td>{'type': 'MultiLineString', 'coordinates': [[[...</td>\n",
              "      <td>8.55000</td>\n",
              "    </tr>\n",
              "    <tr>\n",
              "      <th>2</th>\n",
              "      <td>8230966</td>\n",
              "      <td>KOTA BANDUNG</td>\n",
              "      <td>32.73</td>\n",
              "      <td>2020-01-01</td>\n",
              "      <td>6</td>\n",
              "      <td>4</td>\n",
              "      <td>{'type': 'MultiLineString', 'coordinates': [[[...</td>\n",
              "      <td>3.94875</td>\n",
              "    </tr>\n",
              "    <tr>\n",
              "      <th>3</th>\n",
              "      <td>8230967</td>\n",
              "      <td>KOTA BANDUNG</td>\n",
              "      <td>32.73</td>\n",
              "      <td>2020-01-01</td>\n",
              "      <td>6</td>\n",
              "      <td>2</td>\n",
              "      <td>{'type': 'MultiLineString', 'coordinates': [[[...</td>\n",
              "      <td>20.20710</td>\n",
              "    </tr>\n",
              "    <tr>\n",
              "      <th>4</th>\n",
              "      <td>8230968</td>\n",
              "      <td>KOTA BANDUNG</td>\n",
              "      <td>32.73</td>\n",
              "      <td>2020-01-01</td>\n",
              "      <td>6</td>\n",
              "      <td>2</td>\n",
              "      <td>{'type': 'MultiLineString', 'coordinates': [[[...</td>\n",
              "      <td>40.94400</td>\n",
              "    </tr>\n",
              "    <tr>\n",
              "      <th>...</th>\n",
              "      <td>...</td>\n",
              "      <td>...</td>\n",
              "      <td>...</td>\n",
              "      <td>...</td>\n",
              "      <td>...</td>\n",
              "      <td>...</td>\n",
              "      <td>...</td>\n",
              "      <td>...</td>\n",
              "    </tr>\n",
              "    <tr>\n",
              "      <th>145</th>\n",
              "      <td>8231145</td>\n",
              "      <td>KOTA BANDUNG</td>\n",
              "      <td>32.73</td>\n",
              "      <td>2020-01-01</td>\n",
              "      <td>9</td>\n",
              "      <td>2</td>\n",
              "      <td>{'type': 'MultiLineString', 'coordinates': [[[...</td>\n",
              "      <td>17.02500</td>\n",
              "    </tr>\n",
              "    <tr>\n",
              "      <th>146</th>\n",
              "      <td>8231114</td>\n",
              "      <td>KOTA BANDUNG</td>\n",
              "      <td>32.73</td>\n",
              "      <td>2020-01-01</td>\n",
              "      <td>9</td>\n",
              "      <td>2</td>\n",
              "      <td>{'type': 'LineString', 'coordinates': [[107.61...</td>\n",
              "      <td>13.04000</td>\n",
              "    </tr>\n",
              "    <tr>\n",
              "      <th>147</th>\n",
              "      <td>8231115</td>\n",
              "      <td>KOTA BANDUNG</td>\n",
              "      <td>32.73</td>\n",
              "      <td>2020-01-01</td>\n",
              "      <td>9</td>\n",
              "      <td>2</td>\n",
              "      <td>{'type': 'MultiLineString', 'coordinates': [[[...</td>\n",
              "      <td>17.73760</td>\n",
              "    </tr>\n",
              "    <tr>\n",
              "      <th>148</th>\n",
              "      <td>8231116</td>\n",
              "      <td>KOTA BANDUNG</td>\n",
              "      <td>32.73</td>\n",
              "      <td>2020-01-01</td>\n",
              "      <td>9</td>\n",
              "      <td>3</td>\n",
              "      <td>{'type': 'MultiLineString', 'coordinates': [[[...</td>\n",
              "      <td>12.53960</td>\n",
              "    </tr>\n",
              "    <tr>\n",
              "      <th>149</th>\n",
              "      <td>8231117</td>\n",
              "      <td>KOTA BANDUNG</td>\n",
              "      <td>32.73</td>\n",
              "      <td>2020-01-01</td>\n",
              "      <td>9</td>\n",
              "      <td>4</td>\n",
              "      <td>{'type': 'MultiLineString', 'coordinates': [[[...</td>\n",
              "      <td>5.43000</td>\n",
              "    </tr>\n",
              "  </tbody>\n",
              "</table>\n",
              "<p>150 rows × 8 columns</p>\n",
              "</div>"
            ],
            "text/plain": [
              "          id  ... avg_speed_kmh\n",
              "0    8230974  ...      14.06750\n",
              "1    8230965  ...       8.55000\n",
              "2    8230966  ...       3.94875\n",
              "3    8230967  ...      20.20710\n",
              "4    8230968  ...      40.94400\n",
              "..       ...  ...           ...\n",
              "145  8231145  ...      17.02500\n",
              "146  8231114  ...      13.04000\n",
              "147  8231115  ...      17.73760\n",
              "148  8231116  ...      12.53960\n",
              "149  8231117  ...       5.43000\n",
              "\n",
              "[150 rows x 8 columns]"
            ]
          },
          "metadata": {
            "tags": []
          },
          "execution_count": 10
        }
      ]
    },
    {
      "cell_type": "markdown",
      "metadata": {
        "id": "dtt6HB4TE884"
      },
      "source": [
        "## 1. Lokasi manakah yang paling banyak mengalami kemacetan level 5?"
      ]
    },
    {
      "cell_type": "code",
      "metadata": {
        "colab": {
          "base_uri": "https://localhost:8080/",
          "height": 377
        },
        "id": "vCd-PeXhE41i",
        "outputId": "25e5fe2e-60a1-421e-f433-4af579628fd9"
      },
      "source": [
        "nomor1 = data.loc[data['level'] == 5]\r\n",
        "nomor1"
      ],
      "execution_count": 17,
      "outputs": [
        {
          "output_type": "execute_result",
          "data": {
            "text/html": [
              "<div>\n",
              "<style scoped>\n",
              "    .dataframe tbody tr th:only-of-type {\n",
              "        vertical-align: middle;\n",
              "    }\n",
              "\n",
              "    .dataframe tbody tr th {\n",
              "        vertical-align: top;\n",
              "    }\n",
              "\n",
              "    .dataframe thead th {\n",
              "        text-align: right;\n",
              "    }\n",
              "</style>\n",
              "<table border=\"1\" class=\"dataframe\">\n",
              "  <thead>\n",
              "    <tr style=\"text-align: right;\">\n",
              "      <th></th>\n",
              "      <th>id</th>\n",
              "      <th>kemendagri_kabupaten_nama</th>\n",
              "      <th>kemendagri_kabupaten_kode</th>\n",
              "      <th>date</th>\n",
              "      <th>hour</th>\n",
              "      <th>level</th>\n",
              "      <th>geometry</th>\n",
              "      <th>avg_speed_kmh</th>\n",
              "    </tr>\n",
              "  </thead>\n",
              "  <tbody>\n",
              "    <tr>\n",
              "      <th>17</th>\n",
              "      <td>8230983</td>\n",
              "      <td>KOTA BANDUNG</td>\n",
              "      <td>32.73</td>\n",
              "      <td>2020-01-01</td>\n",
              "      <td>7</td>\n",
              "      <td>5</td>\n",
              "      <td>{'type': 'MultiLineString', 'coordinates': [[[...</td>\n",
              "      <td>0.0</td>\n",
              "    </tr>\n",
              "    <tr>\n",
              "      <th>28</th>\n",
              "      <td>8230994</td>\n",
              "      <td>KOTA BANDUNG</td>\n",
              "      <td>32.73</td>\n",
              "      <td>2020-01-01</td>\n",
              "      <td>7</td>\n",
              "      <td>5</td>\n",
              "      <td>{'type': 'MultiLineString', 'coordinates': [[[...</td>\n",
              "      <td>0.0</td>\n",
              "    </tr>\n",
              "    <tr>\n",
              "      <th>29</th>\n",
              "      <td>8230995</td>\n",
              "      <td>KOTA BANDUNG</td>\n",
              "      <td>32.73</td>\n",
              "      <td>2020-01-01</td>\n",
              "      <td>7</td>\n",
              "      <td>5</td>\n",
              "      <td>{'type': 'MultiLineString', 'coordinates': [[[...</td>\n",
              "      <td>0.0</td>\n",
              "    </tr>\n",
              "    <tr>\n",
              "      <th>30</th>\n",
              "      <td>8230996</td>\n",
              "      <td>KOTA BANDUNG</td>\n",
              "      <td>32.73</td>\n",
              "      <td>2020-01-01</td>\n",
              "      <td>7</td>\n",
              "      <td>5</td>\n",
              "      <td>{'type': 'MultiLineString', 'coordinates': [[[...</td>\n",
              "      <td>0.0</td>\n",
              "    </tr>\n",
              "    <tr>\n",
              "      <th>53</th>\n",
              "      <td>8231018</td>\n",
              "      <td>KOTA BANDUNG</td>\n",
              "      <td>32.73</td>\n",
              "      <td>2020-01-01</td>\n",
              "      <td>7</td>\n",
              "      <td>5</td>\n",
              "      <td>{'type': 'MultiLineString', 'coordinates': [[[...</td>\n",
              "      <td>0.0</td>\n",
              "    </tr>\n",
              "    <tr>\n",
              "      <th>54</th>\n",
              "      <td>8231019</td>\n",
              "      <td>KOTA BANDUNG</td>\n",
              "      <td>32.73</td>\n",
              "      <td>2020-01-01</td>\n",
              "      <td>7</td>\n",
              "      <td>5</td>\n",
              "      <td>{'type': 'MultiLineString', 'coordinates': [[[...</td>\n",
              "      <td>0.0</td>\n",
              "    </tr>\n",
              "    <tr>\n",
              "      <th>55</th>\n",
              "      <td>8231029</td>\n",
              "      <td>KOTA BANDUNG</td>\n",
              "      <td>32.73</td>\n",
              "      <td>2020-01-01</td>\n",
              "      <td>8</td>\n",
              "      <td>5</td>\n",
              "      <td>{'type': 'MultiLineString', 'coordinates': [[[...</td>\n",
              "      <td>0.0</td>\n",
              "    </tr>\n",
              "    <tr>\n",
              "      <th>56</th>\n",
              "      <td>8231041</td>\n",
              "      <td>KOTA BANDUNG</td>\n",
              "      <td>32.73</td>\n",
              "      <td>2020-01-01</td>\n",
              "      <td>8</td>\n",
              "      <td>5</td>\n",
              "      <td>{'type': 'MultiLineString', 'coordinates': [[[...</td>\n",
              "      <td>0.0</td>\n",
              "    </tr>\n",
              "    <tr>\n",
              "      <th>57</th>\n",
              "      <td>8231042</td>\n",
              "      <td>KOTA BANDUNG</td>\n",
              "      <td>32.73</td>\n",
              "      <td>2020-01-01</td>\n",
              "      <td>8</td>\n",
              "      <td>5</td>\n",
              "      <td>{'type': 'MultiLineString', 'coordinates': [[[...</td>\n",
              "      <td>0.0</td>\n",
              "    </tr>\n",
              "    <tr>\n",
              "      <th>80</th>\n",
              "      <td>8231085</td>\n",
              "      <td>KOTA BANDUNG</td>\n",
              "      <td>32.73</td>\n",
              "      <td>2020-01-01</td>\n",
              "      <td>8</td>\n",
              "      <td>5</td>\n",
              "      <td>{'type': 'MultiLineString', 'coordinates': [[[...</td>\n",
              "      <td>0.0</td>\n",
              "    </tr>\n",
              "    <tr>\n",
              "      <th>120</th>\n",
              "      <td>8231087</td>\n",
              "      <td>KOTA BANDUNG</td>\n",
              "      <td>32.73</td>\n",
              "      <td>2020-01-01</td>\n",
              "      <td>8</td>\n",
              "      <td>5</td>\n",
              "      <td>{'type': 'MultiLineString', 'coordinates': [[[...</td>\n",
              "      <td>0.0</td>\n",
              "    </tr>\n",
              "  </tbody>\n",
              "</table>\n",
              "</div>"
            ],
            "text/plain": [
              "          id  ... avg_speed_kmh\n",
              "17   8230983  ...           0.0\n",
              "28   8230994  ...           0.0\n",
              "29   8230995  ...           0.0\n",
              "30   8230996  ...           0.0\n",
              "53   8231018  ...           0.0\n",
              "54   8231019  ...           0.0\n",
              "55   8231029  ...           0.0\n",
              "56   8231041  ...           0.0\n",
              "57   8231042  ...           0.0\n",
              "80   8231085  ...           0.0\n",
              "120  8231087  ...           0.0\n",
              "\n",
              "[11 rows x 8 columns]"
            ]
          },
          "metadata": {
            "tags": []
          },
          "execution_count": 17
        }
      ]
    },
    {
      "cell_type": "markdown",
      "metadata": {
        "id": "N_8yEJmyHdlG"
      },
      "source": [
        "## 2. Berapa banyak kemacetan level 5 yang terjadi di Kota Bandung dalam sebulan terakhir?"
      ]
    },
    {
      "cell_type": "code",
      "metadata": {
        "colab": {
          "base_uri": "https://localhost:8080/",
          "height": 377
        },
        "id": "oSFsFAIoHXsn",
        "outputId": "c4279c79-d699-47ef-a9c0-c8b450b36c63"
      },
      "source": [
        "nomor2 = data.loc[data['level'] == 5]\r\n",
        "nomor2.reset_index(inplace=True)\r\n",
        "nomor2"
      ],
      "execution_count": 26,
      "outputs": [
        {
          "output_type": "execute_result",
          "data": {
            "text/html": [
              "<div>\n",
              "<style scoped>\n",
              "    .dataframe tbody tr th:only-of-type {\n",
              "        vertical-align: middle;\n",
              "    }\n",
              "\n",
              "    .dataframe tbody tr th {\n",
              "        vertical-align: top;\n",
              "    }\n",
              "\n",
              "    .dataframe thead th {\n",
              "        text-align: right;\n",
              "    }\n",
              "</style>\n",
              "<table border=\"1\" class=\"dataframe\">\n",
              "  <thead>\n",
              "    <tr style=\"text-align: right;\">\n",
              "      <th></th>\n",
              "      <th>index</th>\n",
              "      <th>id</th>\n",
              "      <th>kemendagri_kabupaten_nama</th>\n",
              "      <th>kemendagri_kabupaten_kode</th>\n",
              "      <th>date</th>\n",
              "      <th>hour</th>\n",
              "      <th>level</th>\n",
              "      <th>geometry</th>\n",
              "      <th>avg_speed_kmh</th>\n",
              "    </tr>\n",
              "  </thead>\n",
              "  <tbody>\n",
              "    <tr>\n",
              "      <th>0</th>\n",
              "      <td>17</td>\n",
              "      <td>8230983</td>\n",
              "      <td>KOTA BANDUNG</td>\n",
              "      <td>32.73</td>\n",
              "      <td>2020-01-01</td>\n",
              "      <td>7</td>\n",
              "      <td>5</td>\n",
              "      <td>{'type': 'MultiLineString', 'coordinates': [[[...</td>\n",
              "      <td>0.0</td>\n",
              "    </tr>\n",
              "    <tr>\n",
              "      <th>1</th>\n",
              "      <td>28</td>\n",
              "      <td>8230994</td>\n",
              "      <td>KOTA BANDUNG</td>\n",
              "      <td>32.73</td>\n",
              "      <td>2020-01-01</td>\n",
              "      <td>7</td>\n",
              "      <td>5</td>\n",
              "      <td>{'type': 'MultiLineString', 'coordinates': [[[...</td>\n",
              "      <td>0.0</td>\n",
              "    </tr>\n",
              "    <tr>\n",
              "      <th>2</th>\n",
              "      <td>29</td>\n",
              "      <td>8230995</td>\n",
              "      <td>KOTA BANDUNG</td>\n",
              "      <td>32.73</td>\n",
              "      <td>2020-01-01</td>\n",
              "      <td>7</td>\n",
              "      <td>5</td>\n",
              "      <td>{'type': 'MultiLineString', 'coordinates': [[[...</td>\n",
              "      <td>0.0</td>\n",
              "    </tr>\n",
              "    <tr>\n",
              "      <th>3</th>\n",
              "      <td>30</td>\n",
              "      <td>8230996</td>\n",
              "      <td>KOTA BANDUNG</td>\n",
              "      <td>32.73</td>\n",
              "      <td>2020-01-01</td>\n",
              "      <td>7</td>\n",
              "      <td>5</td>\n",
              "      <td>{'type': 'MultiLineString', 'coordinates': [[[...</td>\n",
              "      <td>0.0</td>\n",
              "    </tr>\n",
              "    <tr>\n",
              "      <th>4</th>\n",
              "      <td>53</td>\n",
              "      <td>8231018</td>\n",
              "      <td>KOTA BANDUNG</td>\n",
              "      <td>32.73</td>\n",
              "      <td>2020-01-01</td>\n",
              "      <td>7</td>\n",
              "      <td>5</td>\n",
              "      <td>{'type': 'MultiLineString', 'coordinates': [[[...</td>\n",
              "      <td>0.0</td>\n",
              "    </tr>\n",
              "    <tr>\n",
              "      <th>5</th>\n",
              "      <td>54</td>\n",
              "      <td>8231019</td>\n",
              "      <td>KOTA BANDUNG</td>\n",
              "      <td>32.73</td>\n",
              "      <td>2020-01-01</td>\n",
              "      <td>7</td>\n",
              "      <td>5</td>\n",
              "      <td>{'type': 'MultiLineString', 'coordinates': [[[...</td>\n",
              "      <td>0.0</td>\n",
              "    </tr>\n",
              "    <tr>\n",
              "      <th>6</th>\n",
              "      <td>55</td>\n",
              "      <td>8231029</td>\n",
              "      <td>KOTA BANDUNG</td>\n",
              "      <td>32.73</td>\n",
              "      <td>2020-01-01</td>\n",
              "      <td>8</td>\n",
              "      <td>5</td>\n",
              "      <td>{'type': 'MultiLineString', 'coordinates': [[[...</td>\n",
              "      <td>0.0</td>\n",
              "    </tr>\n",
              "    <tr>\n",
              "      <th>7</th>\n",
              "      <td>56</td>\n",
              "      <td>8231041</td>\n",
              "      <td>KOTA BANDUNG</td>\n",
              "      <td>32.73</td>\n",
              "      <td>2020-01-01</td>\n",
              "      <td>8</td>\n",
              "      <td>5</td>\n",
              "      <td>{'type': 'MultiLineString', 'coordinates': [[[...</td>\n",
              "      <td>0.0</td>\n",
              "    </tr>\n",
              "    <tr>\n",
              "      <th>8</th>\n",
              "      <td>57</td>\n",
              "      <td>8231042</td>\n",
              "      <td>KOTA BANDUNG</td>\n",
              "      <td>32.73</td>\n",
              "      <td>2020-01-01</td>\n",
              "      <td>8</td>\n",
              "      <td>5</td>\n",
              "      <td>{'type': 'MultiLineString', 'coordinates': [[[...</td>\n",
              "      <td>0.0</td>\n",
              "    </tr>\n",
              "    <tr>\n",
              "      <th>9</th>\n",
              "      <td>80</td>\n",
              "      <td>8231085</td>\n",
              "      <td>KOTA BANDUNG</td>\n",
              "      <td>32.73</td>\n",
              "      <td>2020-01-01</td>\n",
              "      <td>8</td>\n",
              "      <td>5</td>\n",
              "      <td>{'type': 'MultiLineString', 'coordinates': [[[...</td>\n",
              "      <td>0.0</td>\n",
              "    </tr>\n",
              "    <tr>\n",
              "      <th>10</th>\n",
              "      <td>120</td>\n",
              "      <td>8231087</td>\n",
              "      <td>KOTA BANDUNG</td>\n",
              "      <td>32.73</td>\n",
              "      <td>2020-01-01</td>\n",
              "      <td>8</td>\n",
              "      <td>5</td>\n",
              "      <td>{'type': 'MultiLineString', 'coordinates': [[[...</td>\n",
              "      <td>0.0</td>\n",
              "    </tr>\n",
              "  </tbody>\n",
              "</table>\n",
              "</div>"
            ],
            "text/plain": [
              "    index  ...  avg_speed_kmh\n",
              "0      17  ...            0.0\n",
              "1      28  ...            0.0\n",
              "2      29  ...            0.0\n",
              "3      30  ...            0.0\n",
              "4      53  ...            0.0\n",
              "5      54  ...            0.0\n",
              "6      55  ...            0.0\n",
              "7      56  ...            0.0\n",
              "8      57  ...            0.0\n",
              "9      80  ...            0.0\n",
              "10    120  ...            0.0\n",
              "\n",
              "[11 rows x 9 columns]"
            ]
          },
          "metadata": {
            "tags": []
          },
          "execution_count": 26
        }
      ]
    },
    {
      "cell_type": "code",
      "metadata": {
        "colab": {
          "base_uri": "https://localhost:8080/"
        },
        "id": "GVl4cPcyIHOM",
        "outputId": "d1714c7e-bef6-4a1d-a70b-65f294098ff1"
      },
      "source": [
        "nomor2['kemendagri_kabupaten_nama'].value_counts()"
      ],
      "execution_count": 24,
      "outputs": [
        {
          "output_type": "execute_result",
          "data": {
            "text/plain": [
              "KOTA BANDUNG    11\n",
              "Name: kemendagri_kabupaten_nama, dtype: int64"
            ]
          },
          "metadata": {
            "tags": []
          },
          "execution_count": 24
        }
      ]
    },
    {
      "cell_type": "markdown",
      "metadata": {
        "id": "TggebanrIeOJ"
      },
      "source": [
        "## 3. Tiga Lokasi manakah yang memiliki rata-rata kecepatan terendah dalam satu minggu terakhir pada jam 15-18?"
      ]
    },
    {
      "cell_type": "code",
      "metadata": {
        "colab": {
          "base_uri": "https://localhost:8080/",
          "height": 406
        },
        "id": "6M9_QVHJINHt",
        "outputId": "8f1053b3-a376-42ce-c29a-779636381121"
      },
      "source": [
        "nomor3 = data.sort_values(by=['avg_speed_kmh'], ignore_index=True)\r\n",
        "nomor3"
      ],
      "execution_count": 39,
      "outputs": [
        {
          "output_type": "execute_result",
          "data": {
            "text/html": [
              "<div>\n",
              "<style scoped>\n",
              "    .dataframe tbody tr th:only-of-type {\n",
              "        vertical-align: middle;\n",
              "    }\n",
              "\n",
              "    .dataframe tbody tr th {\n",
              "        vertical-align: top;\n",
              "    }\n",
              "\n",
              "    .dataframe thead th {\n",
              "        text-align: right;\n",
              "    }\n",
              "</style>\n",
              "<table border=\"1\" class=\"dataframe\">\n",
              "  <thead>\n",
              "    <tr style=\"text-align: right;\">\n",
              "      <th></th>\n",
              "      <th>id</th>\n",
              "      <th>kemendagri_kabupaten_nama</th>\n",
              "      <th>kemendagri_kabupaten_kode</th>\n",
              "      <th>date</th>\n",
              "      <th>hour</th>\n",
              "      <th>level</th>\n",
              "      <th>geometry</th>\n",
              "      <th>avg_speed_kmh</th>\n",
              "    </tr>\n",
              "  </thead>\n",
              "  <tbody>\n",
              "    <tr>\n",
              "      <th>0</th>\n",
              "      <td>8230995</td>\n",
              "      <td>KOTA BANDUNG</td>\n",
              "      <td>32.73</td>\n",
              "      <td>2020-01-01</td>\n",
              "      <td>7</td>\n",
              "      <td>5</td>\n",
              "      <td>{'type': 'MultiLineString', 'coordinates': [[[...</td>\n",
              "      <td>0.0000</td>\n",
              "    </tr>\n",
              "    <tr>\n",
              "      <th>1</th>\n",
              "      <td>8230983</td>\n",
              "      <td>KOTA BANDUNG</td>\n",
              "      <td>32.73</td>\n",
              "      <td>2020-01-01</td>\n",
              "      <td>7</td>\n",
              "      <td>5</td>\n",
              "      <td>{'type': 'MultiLineString', 'coordinates': [[[...</td>\n",
              "      <td>0.0000</td>\n",
              "    </tr>\n",
              "    <tr>\n",
              "      <th>2</th>\n",
              "      <td>8230994</td>\n",
              "      <td>KOTA BANDUNG</td>\n",
              "      <td>32.73</td>\n",
              "      <td>2020-01-01</td>\n",
              "      <td>7</td>\n",
              "      <td>5</td>\n",
              "      <td>{'type': 'MultiLineString', 'coordinates': [[[...</td>\n",
              "      <td>0.0000</td>\n",
              "    </tr>\n",
              "    <tr>\n",
              "      <th>3</th>\n",
              "      <td>8231042</td>\n",
              "      <td>KOTA BANDUNG</td>\n",
              "      <td>32.73</td>\n",
              "      <td>2020-01-01</td>\n",
              "      <td>8</td>\n",
              "      <td>5</td>\n",
              "      <td>{'type': 'MultiLineString', 'coordinates': [[[...</td>\n",
              "      <td>0.0000</td>\n",
              "    </tr>\n",
              "    <tr>\n",
              "      <th>4</th>\n",
              "      <td>8230996</td>\n",
              "      <td>KOTA BANDUNG</td>\n",
              "      <td>32.73</td>\n",
              "      <td>2020-01-01</td>\n",
              "      <td>7</td>\n",
              "      <td>5</td>\n",
              "      <td>{'type': 'MultiLineString', 'coordinates': [[[...</td>\n",
              "      <td>0.0000</td>\n",
              "    </tr>\n",
              "    <tr>\n",
              "      <th>...</th>\n",
              "      <td>...</td>\n",
              "      <td>...</td>\n",
              "      <td>...</td>\n",
              "      <td>...</td>\n",
              "      <td>...</td>\n",
              "      <td>...</td>\n",
              "      <td>...</td>\n",
              "      <td>...</td>\n",
              "    </tr>\n",
              "    <tr>\n",
              "      <th>145</th>\n",
              "      <td>8231056</td>\n",
              "      <td>KOTA BANDUNG</td>\n",
              "      <td>32.73</td>\n",
              "      <td>2020-01-01</td>\n",
              "      <td>8</td>\n",
              "      <td>1</td>\n",
              "      <td>{'type': 'MultiLineString', 'coordinates': [[[...</td>\n",
              "      <td>33.6400</td>\n",
              "    </tr>\n",
              "    <tr>\n",
              "      <th>146</th>\n",
              "      <td>8231070</td>\n",
              "      <td>KOTA BANDUNG</td>\n",
              "      <td>32.73</td>\n",
              "      <td>2020-01-01</td>\n",
              "      <td>8</td>\n",
              "      <td>2</td>\n",
              "      <td>{'type': 'MultiLineString', 'coordinates': [[[...</td>\n",
              "      <td>34.7400</td>\n",
              "    </tr>\n",
              "    <tr>\n",
              "      <th>147</th>\n",
              "      <td>8231013</td>\n",
              "      <td>KOTA BANDUNG</td>\n",
              "      <td>32.73</td>\n",
              "      <td>2020-01-01</td>\n",
              "      <td>7</td>\n",
              "      <td>2</td>\n",
              "      <td>{'type': 'MultiLineString', 'coordinates': [[[...</td>\n",
              "      <td>38.8994</td>\n",
              "    </tr>\n",
              "    <tr>\n",
              "      <th>148</th>\n",
              "      <td>8230968</td>\n",
              "      <td>KOTA BANDUNG</td>\n",
              "      <td>32.73</td>\n",
              "      <td>2020-01-01</td>\n",
              "      <td>6</td>\n",
              "      <td>2</td>\n",
              "      <td>{'type': 'MultiLineString', 'coordinates': [[[...</td>\n",
              "      <td>40.9440</td>\n",
              "    </tr>\n",
              "    <tr>\n",
              "      <th>149</th>\n",
              "      <td>8231069</td>\n",
              "      <td>KOTA BANDUNG</td>\n",
              "      <td>32.73</td>\n",
              "      <td>2020-01-01</td>\n",
              "      <td>8</td>\n",
              "      <td>1</td>\n",
              "      <td>{'type': 'LineString', 'coordinates': [[107.60...</td>\n",
              "      <td>46.8500</td>\n",
              "    </tr>\n",
              "  </tbody>\n",
              "</table>\n",
              "<p>150 rows × 8 columns</p>\n",
              "</div>"
            ],
            "text/plain": [
              "          id  ... avg_speed_kmh\n",
              "0    8230995  ...        0.0000\n",
              "1    8230983  ...        0.0000\n",
              "2    8230994  ...        0.0000\n",
              "3    8231042  ...        0.0000\n",
              "4    8230996  ...        0.0000\n",
              "..       ...  ...           ...\n",
              "145  8231056  ...       33.6400\n",
              "146  8231070  ...       34.7400\n",
              "147  8231013  ...       38.8994\n",
              "148  8230968  ...       40.9440\n",
              "149  8231069  ...       46.8500\n",
              "\n",
              "[150 rows x 8 columns]"
            ]
          },
          "metadata": {
            "tags": []
          },
          "execution_count": 39
        }
      ]
    },
    {
      "cell_type": "code",
      "metadata": {
        "colab": {
          "base_uri": "https://localhost:8080/",
          "height": 137
        },
        "id": "0N9q8GwiJo5N",
        "outputId": "dd14e656-6383-446c-9817-4f2bdd8c6c63"
      },
      "source": [
        "nomor3.loc[0:2]"
      ],
      "execution_count": 41,
      "outputs": [
        {
          "output_type": "execute_result",
          "data": {
            "text/html": [
              "<div>\n",
              "<style scoped>\n",
              "    .dataframe tbody tr th:only-of-type {\n",
              "        vertical-align: middle;\n",
              "    }\n",
              "\n",
              "    .dataframe tbody tr th {\n",
              "        vertical-align: top;\n",
              "    }\n",
              "\n",
              "    .dataframe thead th {\n",
              "        text-align: right;\n",
              "    }\n",
              "</style>\n",
              "<table border=\"1\" class=\"dataframe\">\n",
              "  <thead>\n",
              "    <tr style=\"text-align: right;\">\n",
              "      <th></th>\n",
              "      <th>id</th>\n",
              "      <th>kemendagri_kabupaten_nama</th>\n",
              "      <th>kemendagri_kabupaten_kode</th>\n",
              "      <th>date</th>\n",
              "      <th>hour</th>\n",
              "      <th>level</th>\n",
              "      <th>geometry</th>\n",
              "      <th>avg_speed_kmh</th>\n",
              "    </tr>\n",
              "  </thead>\n",
              "  <tbody>\n",
              "    <tr>\n",
              "      <th>0</th>\n",
              "      <td>8230995</td>\n",
              "      <td>KOTA BANDUNG</td>\n",
              "      <td>32.73</td>\n",
              "      <td>2020-01-01</td>\n",
              "      <td>7</td>\n",
              "      <td>5</td>\n",
              "      <td>{'type': 'MultiLineString', 'coordinates': [[[...</td>\n",
              "      <td>0.0</td>\n",
              "    </tr>\n",
              "    <tr>\n",
              "      <th>1</th>\n",
              "      <td>8230983</td>\n",
              "      <td>KOTA BANDUNG</td>\n",
              "      <td>32.73</td>\n",
              "      <td>2020-01-01</td>\n",
              "      <td>7</td>\n",
              "      <td>5</td>\n",
              "      <td>{'type': 'MultiLineString', 'coordinates': [[[...</td>\n",
              "      <td>0.0</td>\n",
              "    </tr>\n",
              "    <tr>\n",
              "      <th>2</th>\n",
              "      <td>8230994</td>\n",
              "      <td>KOTA BANDUNG</td>\n",
              "      <td>32.73</td>\n",
              "      <td>2020-01-01</td>\n",
              "      <td>7</td>\n",
              "      <td>5</td>\n",
              "      <td>{'type': 'MultiLineString', 'coordinates': [[[...</td>\n",
              "      <td>0.0</td>\n",
              "    </tr>\n",
              "  </tbody>\n",
              "</table>\n",
              "</div>"
            ],
            "text/plain": [
              "        id  ... avg_speed_kmh\n",
              "0  8230995  ...           0.0\n",
              "1  8230983  ...           0.0\n",
              "2  8230994  ...           0.0\n",
              "\n",
              "[3 rows x 8 columns]"
            ]
          },
          "metadata": {
            "tags": []
          },
          "execution_count": 41
        }
      ]
    },
    {
      "cell_type": "markdown",
      "metadata": {
        "id": "6LP5yw2yMDQu"
      },
      "source": [
        "## 4. Temukan anomali yang terdapat pada tabel sampel data tersebut!"
      ]
    },
    {
      "cell_type": "code",
      "metadata": {
        "colab": {
          "base_uri": "https://localhost:8080/",
          "height": 352
        },
        "id": "bMKeQSphR-xQ",
        "outputId": "98db0051-b1c2-4280-b9c7-2dafcfc399b2"
      },
      "source": [
        "sns.boxplot(data[\"hour\"])"
      ],
      "execution_count": 55,
      "outputs": [
        {
          "output_type": "stream",
          "text": [
            "/usr/local/lib/python3.6/dist-packages/seaborn/_decorators.py:43: FutureWarning: Pass the following variable as a keyword arg: x. From version 0.12, the only valid positional argument will be `data`, and passing other arguments without an explicit keyword will result in an error or misinterpretation.\n",
            "  FutureWarning\n"
          ],
          "name": "stderr"
        },
        {
          "output_type": "execute_result",
          "data": {
            "text/plain": [
              "<matplotlib.axes._subplots.AxesSubplot at 0x7f7f1f2b4da0>"
            ]
          },
          "metadata": {
            "tags": []
          },
          "execution_count": 55
        },
        {
          "output_type": "display_data",
          "data": {
            "image/png": "[encoded data removed]",
            "text/plain": [
              "<Figure size 432x288 with 1 Axes>"
            ]
          },
          "metadata": {
            "tags": [],
            "needs_background": "light"
          }
        }
      ]
    },
    {
      "cell_type": "code",
      "metadata": {
        "colab": {
          "base_uri": "https://localhost:8080/",
          "height": 352
        },
        "id": "Q0HBMrGJSVwJ",
        "outputId": "0b25b24f-ec40-4a95-e5e5-4ed483cdad88"
      },
      "source": [
        "sns.boxplot(data[\"level\"])"
      ],
      "execution_count": 65,
      "outputs": [
        {
          "output_type": "stream",
          "text": [
            "/usr/local/lib/python3.6/dist-packages/seaborn/_decorators.py:43: FutureWarning: Pass the following variable as a keyword arg: x. From version 0.12, the only valid positional argument will be `data`, and passing other arguments without an explicit keyword will result in an error or misinterpretation.\n",
            "  FutureWarning\n"
          ],
          "name": "stderr"
        },
        {
          "output_type": "execute_result",
          "data": {
            "text/plain": [
              "<matplotlib.axes._subplots.AxesSubplot at 0x7f7f1efda4a8>"
            ]
          },
          "metadata": {
            "tags": []
          },
          "execution_count": 65
        },
        {
          "output_type": "display_data",
          "data": {
            "image/png": "[encoded data removed]",
            "text/plain": [
              "<Figure size 432x288 with 1 Axes>"
            ]
          },
          "metadata": {
            "tags": [],
            "needs_background": "light"
          }
        }
      ]
    },
    {
      "cell_type": "code",
      "metadata": {
        "colab": {
          "base_uri": "https://localhost:8080/",
          "height": 353
        },
        "id": "ak8piuyTSaIc",
        "outputId": "3282012b-f7f6-4f02-ccd1-49f886e4cfcd"
      },
      "source": [
        "sns.boxplot(data[\"avg_speed_kmh\"])"
      ],
      "execution_count": 66,
      "outputs": [
        {
          "output_type": "stream",
          "text": [
            "/usr/local/lib/python3.6/dist-packages/seaborn/_decorators.py:43: FutureWarning: Pass the following variable as a keyword arg: x. From version 0.12, the only valid positional argument will be `data`, and passing other arguments without an explicit keyword will result in an error or misinterpretation.\n",
            "  FutureWarning\n"
          ],
          "name": "stderr"
        },
        {
          "output_type": "execute_result",
          "data": {
            "text/plain": [
              "<matplotlib.axes._subplots.AxesSubplot at 0x7f7f1efeb940>"
            ]
          },
          "metadata": {
            "tags": []
          },
          "execution_count": 66
        },
        {
          "output_type": "display_data",
          "data": {
            "image/png": "[encoded data removed]",
            "text/plain": [
              "<Figure size 432x288 with 1 Axes>"
            ]
          },
          "metadata": {
            "tags": [],
            "needs_background": "light"
          }
        }
      ]
    },
    {
      "cell_type": "code",
      "metadata": {
        "id": "nK_TRGM6Su0o"
      },
      "source": [
        ""
      ],
      "execution_count": null,
      "outputs": []
    }
  ]
}